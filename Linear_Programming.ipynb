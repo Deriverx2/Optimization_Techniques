{
  "nbformat": 4,
  "nbformat_minor": 0,
  "metadata": {
    "colab": {
      "provenance": []
    },
    "kernelspec": {
      "name": "python3",
      "display_name": "Python 3"
    },
    "language_info": {
      "name": "python"
    }
  },
  "cells": [
    {
      "cell_type": "code",
      "source": [
        "!pip install pulp"
      ],
      "metadata": {
        "id": "5IPFRQW15bR0"
      },
      "execution_count": null,
      "outputs": []
    },
    {
      "cell_type": "code",
      "source": [
        "import pulp\n",
        "\n",
        "# Create a problem variable to maximize profit\n",
        "problem = pulp.LpProblem(\"Maximize_Profit\", pulp.LpMaximize)\n",
        "\n",
        "# Decision variables\n",
        "chair = pulp.LpVariable(\"Chair\", lowBound=0, cat='Integer')\n",
        "table = pulp.LpVariable(\"Table\", lowBound=0, cat='Integer')\n",
        "\n",
        "# Objective function\n",
        "profit =\n",
        "problem += profit, \"Profit\"\n",
        "\n",
        "# Constraints\n",
        "problem += , \"Wood Constraint\"\n",
        "problem += , \"Metal Constraint\"\n",
        "\n",
        "# Solve the problem\n",
        "problem.solve()\n",
        "\n",
        "# Print the results\n",
        "print(f\"Status: {pulp.LpStatus[problem.status]}\")\n",
        "print(f\"Number of Chairs to produce: {chair.varValue}\")\n",
        "print(f\"Number of Tables to produce: {table.varValue}\")\n",
        "print(f\"Maximum Profit: ${pulp.value(problem.objective)}\")\n"
      ],
      "metadata": {
        "colab": {
          "base_uri": "https://localhost:8080/"
        },
        "id": "pnzeDbF34Pnj",
        "outputId": "d62d24aa-9d7c-4dae-de50-0644f480dba7"
      },
      "execution_count": null,
      "outputs": [
        {
          "output_type": "stream",
          "name": "stdout",
          "text": [
            "Status: Optimal\n",
            "Number of Chairs to produce: 19.0\n",
            "Number of Tables to produce: 21.0\n",
            "Maximum Profit: $1010.0\n"
          ]
        }
      ]
    },
    {
      "cell_type": "code",
      "source": [
        "#A furniture company produces chairs and tables from two resources, wood and metal.\n",
        "#The company has 125 units of wood and 80 units of metal available.\n",
        "#Each chair requires 1 unit of wood and 3 units of metal, while each table requires 5 units of wood and 1 unit of metal.\n",
        "#The profit from selling a chair is 20 dollars, and the profit from selling a table is 30 dollars.\n",
        "#How many chairs and tables should the company produce to maximize its profit? What is the maximum profit?\n",
        "#Implement using linear programming package"
      ],
      "metadata": {
        "id": "jz3fXYpvA9ch"
      },
      "execution_count": null,
      "outputs": []
    },
    {
      "cell_type": "code",
      "source": [
        "from scipy.optimize import linprog\n",
        "#profit = 20 * chair + 30 * table\n",
        "obj = [-20, -30] #values for profit function\n",
        "#constraints\n",
        "#chair + 5 * table <= 125 (wood constraint)\n",
        "#3 * chair + table <= 80 (metal constraint)\n",
        "lhs_ineq = [[ 1, 5], [3,  1]] #LHS of inequality constraints\n",
        "rhs_ineq =[125, 80] #RHS of inequality constraints\n",
        "bnd = [(0, float(\"inf\")),(0, float(\"inf\"))] #Bounds\n",
        "opt = linprog(c= obj, A_ub=lhs_ineq, b_ub=rhs_ineq, bounds=bnd) #Optimization function\n",
        "print(\"Chair count\",int(opt.x[0]))\n",
        "print(\"Table count\",int(opt.x[1]))\n",
        "max_profit=sum(c * -x for c, x in zip(obj, opt.x))\n",
        "print(\"Maximum profit =\",max_profit)"
      ],
      "metadata": {
        "colab": {
          "base_uri": "https://localhost:8080/"
        },
        "id": "0ojooNHZ86Ub",
        "outputId": "d4e1ab35-de74-4251-c943-10349cd19665"
      },
      "execution_count": 57,
      "outputs": [
        {
          "output_type": "stream",
          "name": "stdout",
          "text": [
            "Chair count 19\n",
            "Table count 21\n",
            "Maximum profit = 1025.0\n"
          ]
        }
      ]
    },
    {
      "cell_type": "code",
      "source": [
        "#A farmer has a field of 60 acres in which he plants two crops, wheat and barley.\n",
        "#The farmer has to plant at least 20 acres of wheat and at least 10 acres of barley\n",
        "#He has 1200 pounds of fertilizer and 600 pounds of insecticide available.\n",
        "#Each acre of wheat requires 20 pounds of fertilizer and 10 pounds of insecticide,\n",
        "#while each acre of barley requires 10 pounds of fertilizer and 15 pounds of insecticide.\n",
        "#The profit from an acre of wheat is 200 dollars, and the profit from an acre of barley is 150 dollars.\n",
        "#How many acres of each crop should the farmer plant to maximize his profit? What is the maximum profit?\n",
        "#Implement using linear programming package(41)"
      ],
      "metadata": {
        "id": "5UxCBdhrBBbK"
      },
      "execution_count": null,
      "outputs": []
    },
    {
      "cell_type": "code",
      "source": [
        "from scipy.optimize import linprog\n",
        "#profit = 200 * wheat + 150 * barley\n",
        "obj = [-200, -150] #values for profit function\n",
        "#constraints\n",
        "#20*wheat+ 10 * barley <= 1200 (fertilizer constraint)\n",
        "#10 *wheat + 15*barley <= 600 (insecticide constraint)\n",
        "\n",
        "lhs_ineq = [[20, 10], [10, 15]] #LHS of inequality constraints\n",
        "rhs_ineq =[1200, 600] #RHS of inequality constraints\n",
        "bnd = [(20, 60),(10, 60)] #Bounds\n",
        "opt = linprog(c=obj, A_ub=lhs_ineq, b_ub=rhs_ineq, bounds=bnd) #Optimization function\n",
        "print(\"Wheat acres\",int(opt.x[0]))\n",
        "print(\"Barley acres\",int(opt.x[1]))\n",
        "max_profit=sum(c * -x for c, x in zip(obj, opt.x))\n",
        "print(\"Maximum profit =\",max_profit)"
      ],
      "metadata": {
        "colab": {
          "base_uri": "https://localhost:8080/"
        },
        "id": "o58vuwcWIpKC",
        "outputId": "30d0136a-3568-459e-b055-d5ce3620c756"
      },
      "execution_count": 68,
      "outputs": [
        {
          "output_type": "stream",
          "name": "stdout",
          "text": [
            "Wheat acres 45\n",
            "Barley acres 10\n",
            "Maximum profit = 10500.0\n"
          ]
        }
      ]
    },
    {
      "cell_type": "code",
      "source": [
        "#A bakery sells two types of cakes, chocolate and vanilla.\n",
        "#The bakery has a daily budget of 500 dollars and can produce at most 400 cakes per day.\n",
        "#Each chocolate cake costs 2 dollars to make and sells for 5 dollars,\n",
        "#while each vanilla cake costs 1 dollar to make and sells for 3 dollars.\n",
        "#The bakery also has to satisfy the demand of at least 100 chocolate cakes and at least 50 vanilla cakes per day.\n",
        "#How many cakes of each type should the bakery make to maximize its revenue?\n",
        "#What is the maximum revenue? Implement using linear programming package\n"
      ],
      "metadata": {
        "id": "_ifIIp83RDPR"
      },
      "execution_count": null,
      "outputs": []
    },
    {
      "cell_type": "code",
      "source": [
        "from scipy.optimize import linprog\n",
        "#profit = 3 * chocolate + 2 * vanila\n",
        "obj = [-3, -2] #values for profit function\n",
        "#constraints\n",
        "#chocolate+vanila<=400\n",
        "#2*chocolate + 1*vanila<=500\n",
        "#chocolate>=100\n",
        "#vanila>=50\n",
        "\n",
        "lhs_ineq = [[1, 1], [2, 1]] #LHS of inequality constraints\n",
        "rhs_ineq =[400, 500] #RHS of inequality constraints\n",
        "bnd = [(100, 400),(50, 400)] #Bounds\n",
        "opt = linprog(c=obj, A_ub=lhs_ineq, b_ub=rhs_ineq, bounds=bnd) #Optimization function\n",
        "print(\"Chocolate cake\",int(opt.x[0]))\n",
        "print(\"Vanila cake\",int(opt.x[1]))\n",
        "max_profit=sum(c * -x for c, x in zip(obj, opt.x))\n",
        "print(\"Maximum profit =\",max_profit)"
      ],
      "metadata": {
        "colab": {
          "base_uri": "https://localhost:8080/"
        },
        "id": "FMnmcbzQREkZ",
        "outputId": "b42cb0a5-0949-463b-ae84-fd2bc3b86ed9"
      },
      "execution_count": 70,
      "outputs": [
        {
          "output_type": "stream",
          "name": "stdout",
          "text": [
            "Chocolate cake 100\n",
            "Vanila cake 300\n",
            "Maximum profit = 900.0\n"
          ]
        }
      ]
    },
    {
      "cell_type": "code",
      "source": [
        "# 6 Solve the following without using linear programming package\n",
        "\n",
        "# Maximize\n",
        "\n",
        "# p=2u1+3u2+u3\n",
        "\n",
        "# Subject to\n",
        "\n",
        "# u1+u2+u3≤4\n",
        "\n",
        "# u1+2u2-u3≥2\n",
        "\n",
        "# u1,u2,u3≥0"
      ],
      "metadata": {
        "id": "J4U1aIXyRvKx"
      },
      "execution_count": null,
      "outputs": []
    }
  ]
}